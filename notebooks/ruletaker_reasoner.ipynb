{
 "cells": [
  {
   "cell_type": "code",
   "execution_count": 1,
   "metadata": {},
   "outputs": [],
   "source": [
    "import sys; sys.path.append('../')"
   ]
  },
  {
   "cell_type": "code",
   "execution_count": 2,
   "metadata": {},
   "outputs": [],
   "source": [
    "from language_fragments import BuildSolver, get_config"
   ]
  },
  {
   "cell_type": "code",
   "execution_count": 3,
   "metadata": {},
   "outputs": [],
   "source": [
    "config = get_config('solver')"
   ]
  },
  {
   "cell_type": "code",
   "execution_count": 4,
   "metadata": {},
   "outputs": [],
   "source": [
    "config.parser = 'rule_taker'"
   ]
  },
  {
   "cell_type": "code",
   "execution_count": 5,
   "metadata": {},
   "outputs": [
    {
     "name": "stderr",
     "output_type": "stream",
     "text": [
      "INFO:language_fragments.base.RuleTakerParser:Loaded parser, with grammar=RuleTakerGrammar, cache_size=3000, extra_reserve=101\n",
      "INFO:language_fragments.base.SyllogisticSMTSolver:Created solver, cache_size=3000\n"
     ]
    }
   ],
   "source": [
    "solver = BuildSolver(config)"
   ]
  },
  {
   "cell_type": "code",
   "execution_count": 6,
   "metadata": {},
   "outputs": [
    {
     "data": {
      "text/plain": [
       "['Big(bald_eagle)',\n",
       " 'Chase(cat,squirrel)',\n",
       " 'Need(cat,bald_eagle)',\n",
       " 'Need(cat,tiger)',\n",
       " 'Blue(squirrel)',\n",
       " 'Need(squirrel,bald_eagle)',\n",
       " 'See(squirrel,bald_eagle)',\n",
       " 'See(squirrel,cat)',\n",
       " 'Chase(tiger,bald_eagle)',\n",
       " 'Chase(tiger,cat)',\n",
       " 'Blue(tiger)',\n",
       " 'Green(tiger)',\n",
       " 'Implies(Chase(tiger,cat),Big(tiger))',\n",
       " 'ForAll([x],Implies(Chase(x,bald_eagle),Need(bald_eagle,cat)))',\n",
       " 'ForAll([x],Implies(And(Blue(x),Need(x,squirrel)),See(squirrel,bald_eagle)))',\n",
       " 'Implies(And(Chase(bald_eagle,cat),Chase(cat,bald_eagle)),See(bald_eagle,squirrel))',\n",
       " 'ForAll([x],Implies(And(Need(x,tiger),Need(tiger,bald_eagle)),Red(x)))',\n",
       " 'ForAll([x],Implies(Round(x),Green(x)))',\n",
       " 'ForAll([x],Implies(And(See(x,cat),Chase(x,tiger)),See(cat,bald_eagle)))',\n",
       " 'ForAll([x],Implies(And(Big(x),Blue(x)),Chase(x,squirrel)))']"
      ]
     },
     "execution_count": 6,
     "metadata": {},
     "output_type": "execute_result"
    }
   ],
   "source": [
    "solver.parse_problem(\n",
    "    [\"The bald_eagle is big\", \n",
    "     \"The cat chases the squirrel\", \n",
    "     \"The cat needs the bald_eagle\", \n",
    "     \"The cat needs the tiger\", \n",
    "     \"The squirrel is blue\", \n",
    "     \"The squirrel needs the bald_eagle\", \n",
    "     \"The squirrel sees the bald_eagle\", \n",
    "     \"The squirrel sees the cat\", \n",
    "     \"The tiger chases the bald_eagle\", \n",
    "     \"The tiger chases the cat\", \n",
    "     \"The tiger is blue\", \n",
    "     \"The tiger is green\", \n",
    "     \"If the tiger chases the cat then the tiger is big\", \n",
    "     \"If someone chases the bald_eagle then the bald_eagle needs the cat\", \n",
    "     \"If someone is blue and they need the squirrel then the squirrel sees the bald_eagle\", \n",
    "     \"If the bald_eagle chases the cat and the cat chases the bald_eagle then the bald_eagle sees the squirrel\",\n",
    "     \"If someone needs the tiger and the tiger needs the bald_eagle then they are red\", \n",
    "     \"Round people are green\", \n",
    "     \"If someone sees the cat and they chase the tiger then the cat sees the bald_eagle\", \n",
    "     \"If someone is big and blue then they chase the squirrel\"],key='lf')"
   ]
  },
  {
   "cell_type": "code",
   "execution_count": 7,
   "metadata": {},
   "outputs": [],
   "source": [
    "pout = solver.prove(\n",
    "    [\"The bald_eagle is big\", \n",
    "     \"The cat chases the squirrel\", \n",
    "     \"The cat needs the bald_eagle\", \n",
    "     \"The cat needs the tiger\", \n",
    "     \"The squirrel is blue\", \n",
    "     \"The squirrel needs the bald_eagle\", \n",
    "     \"The squirrel sees the bald_eagle\", \n",
    "     \"The squirrel sees the cat\", \n",
    "     \"The tiger chases the bald_eagle\", \n",
    "     \"The tiger chases the cat\", \n",
    "     \"The tiger is blue\", \n",
    "     \"The tiger is green\", \n",
    "     \"If the tiger chases the cat then the tiger is big\", \n",
    "     \"If someone chases the bald_eagle then the bald_eagle needs the cat\", \n",
    "     \"If someone is blue and they need the squirrel then the squirrel sees the bald_eagle\", \n",
    "     \"If the bald_eagle chases the cat and the cat chases the bald_eagle then the bald_eagle sees the squirrel\",\n",
    "     \"If someone needs the tiger and the tiger needs the bald_eagle then they are red\", \n",
    "     \"Round people are green\", \n",
    "     \"If someone sees the cat and they chase the tiger then the cat sees the bald_eagle\", \n",
    "     \"If someone is big and blue then they chase the squirrel\"],query=\"The squirrel is blue\")"
   ]
  },
  {
   "cell_type": "code",
   "execution_count": 8,
   "metadata": {},
   "outputs": [
    {
     "data": {
      "text/plain": [
       "theory=sat, query=entailment"
      ]
     },
     "execution_count": 8,
     "metadata": {},
     "output_type": "execute_result"
    }
   ],
   "source": [
    "pout"
   ]
  },
  {
   "cell_type": "code",
   "execution_count": 9,
   "metadata": {},
   "outputs": [
    {
     "data": {
      "text/plain": [
       "['Furry(anne)',\n",
       " 'Not(Round(bob))',\n",
       " 'Not(Furry(dave))',\n",
       " 'Rough(dave)',\n",
       " 'Not(Young(dave))',\n",
       " 'Rough(erin)',\n",
       " 'Round(erin)',\n",
       " 'ForAll([x],Implies(And(Cold(x),Kind(x)),Not(Rough(x))))',\n",
       " 'ForAll([x],Implies(Kind(x),Cold(x)))',\n",
       " 'ForAll([x],Implies(Cold(x),Kind(x)))',\n",
       " 'ForAll([x],Implies(Furry(x),Kind(x)))',\n",
       " 'ForAll([x],Implies(Round(x),Not(Kind(x))))',\n",
       " 'ForAll([x],Implies(And(Round(x),Kind(x)),Not(Green(x))))']"
      ]
     },
     "execution_count": 9,
     "metadata": {},
     "output_type": "execute_result"
    }
   ],
   "source": [
    "# problem=\"\"\"#Anne is furry. \n",
    "# #Bob is not round. \n",
    "# #Dave is not furry. \n",
    "# #Dave is rough. \n",
    "# #Dave is not young. \n",
    "# Erin is rough. \n",
    "# Erin is round. \n",
    "# All kind, cold people are not rough.\n",
    "# Kind people are cold.\n",
    "# If someone is kind then they are cold.\n",
    "# If someone is cold then they are kind. \n",
    "# #If someone is furry then they are kind. \n",
    "# #If someone is round then they are not kind. \n",
    "# #All kind, round people are not green\"\"\"\n",
    "\n",
    "problem=\"\"\"Anne is furry. \n",
    "Bob is not round.\n",
    "Dave is not furry.\n",
    "Dave is rough.\n",
    "Dave is not young.\n",
    "Erin is rough.\n",
    "Erin is round.\n",
    "All kind, cold people are not rough.\n",
    "Kind people are cold.\n",
    "If someone is cold then they are kind.\n",
    "If someone is furry then they are kind.\n",
    "If someone is round then they are not kind.\n",
    "All kind, round people are not green\"\"\"\n",
    "\n",
    "problem = [p for p in problem.split(\"\\n\") if p.strip() if \"#\" not in p]\n",
    "\n",
    "\n",
    "solver.parse_problem(problem,key='lf')"
   ]
  },
  {
   "cell_type": "code",
   "execution_count": 10,
   "metadata": {},
   "outputs": [
    {
     "data": {
      "text/plain": [
       "theory=sat, query=entailment"
      ]
     },
     "execution_count": 10,
     "metadata": {},
     "output_type": "execute_result"
    }
   ],
   "source": [
    "solver.prove(problem,query='Erin is not kind')"
   ]
  },
  {
   "cell_type": "code",
   "execution_count": 11,
   "metadata": {},
   "outputs": [
    {
     "data": {
      "text/plain": [
       "['Not(Furry(dave))',\n",
       " 'Rough(dave)',\n",
       " 'Not(Young(dave))',\n",
       " 'ForAll([x],Implies(And(Cold(x),Kind(x)),Not(Rough(x))))',\n",
       " 'ForAll([x],Implies(Kind(x),Cold(x)))',\n",
       " 'ForAll([x],Implies(Cold(x),Kind(x)))',\n",
       " 'ForAll([x],Implies(Furry(x),Kind(x)))',\n",
       " 'ForAll([x],Implies(Round(x),Not(Kind(x))))',\n",
       " 'ForAll([x],Implies(And(Round(x),Kind(x)),Not(Green(x))))']"
      ]
     },
     "execution_count": 11,
     "metadata": {},
     "output_type": "execute_result"
    }
   ],
   "source": [
    "problem2 = \"\"\"Dave is not furry.\n",
    "Dave is rough.\n",
    "Dave is not young.\n",
    "All kind, cold people are not rough.\n",
    "Kind people are cold.\n",
    "If someone is cold then they are kind.\n",
    "If someone is furry then they are kind.\n",
    "If someone is round then they are not kind.\n",
    "All kind, round people are not green\"\"\"\n",
    "\n",
    "problem2 = [p for p in problem2.split(\"\\n\") if p.strip()]\n",
    "\n",
    "#solver.prove(problem2,query=\"Dave is not cold\",debug=True)\n",
    "solver.parse_problem(problem2,key='lf')"
   ]
  },
  {
   "cell_type": "code",
   "execution_count": 12,
   "metadata": {},
   "outputs": [
    {
     "name": "stdout",
     "output_type": "stream",
     "text": [
      "sat\n"
     ]
    }
   ],
   "source": [
    "from z3 import (\n",
    "    DeclareSort,\n",
    "    Function,\n",
    "    BoolSort,\n",
    "    Const,\n",
    "    ForAll,\n",
    "    Implies,\n",
    "    Exists,\n",
    "    And,\n",
    "    Or,\n",
    "    Not,\n",
    "    Solver\n",
    ")\n",
    "\n",
    "Object = DeclareSort('Object')\n",
    "dave = Const('socrates', Object)\n",
    "Furry = Function('Furry', Object, BoolSort())\n",
    "Kind = Function('Kind', Object, BoolSort())\n",
    "Cold = Function('Cold', Object, BoolSort())\n",
    "Green = Function('Green', Object, BoolSort())\n",
    "Young = Function('Young', Object, BoolSort())\n",
    "Round = Function('Round', Object, BoolSort())\n",
    "Rough = Function('Rough', Object, BoolSort())\n",
    "\n",
    "x = Const('x', Object)\n",
    "\n",
    "axioms = [\n",
    " Not(Furry(dave)),\n",
    " Rough(dave),\n",
    " Not(Young(dave)),\n",
    " ForAll([x],Implies(And(Cold(x),Kind(x)),Not(Rough(x)))),\n",
    " ForAll([x],Implies(Kind(x),Cold(x))),\n",
    " ForAll([x],Implies(Cold(x),Kind(x))),\n",
    " ForAll([x],Implies(Furry(x),Kind(x))),\n",
    " ForAll([x],Implies(Round(x),Not(Kind(x)))),\n",
    " ForAll([x],Implies(And(Round(x),Kind(x)),Not(Green(x)))),\n",
    " Not(Kind(dave))\n",
    "]\n",
    "\n",
    "s = Solver()\n",
    "s.add(axioms)\n",
    "\n",
    "print(s.check())"
   ]
  },
  {
   "cell_type": "markdown",
   "metadata": {},
   "source": [
    "The above example shows how the solver is implemented on the low-end using Z3. Here I was using this code to debug a few examples that looked a bit strange at first."
   ]
  },
  {
   "cell_type": "code",
   "execution_count": 13,
   "metadata": {},
   "outputs": [
    {
     "data": {
      "text/plain": [
       "theory=sat, query=unknown"
      ]
     },
     "execution_count": 13,
     "metadata": {},
     "output_type": "execute_result"
    }
   ],
   "source": [
    "problem3=\"\"\"Dave is quiet.\n",
    "Erin is big.\n",
    "Fiona is red.\n",
    "Harry is red.\n",
    "All quiet people are round.\n",
    "All nice people are round.\n",
    "All red, big people are not round.\n",
    "If Harry is round then Harry is red.\n",
    "If Erin is quiet then Erin is round.\n",
    "If someone is quiet and not white then they are cold.\n",
    "If someone is quiet and big then they are cold.\"\"\"\n",
    "\n",
    "problem3 = [p for p in problem3.split(\"\\n\") if p.strip()]\n",
    "\n",
    "solver.prove(problem3,query='Harry is quiet')\n"
   ]
  },
  {
   "cell_type": "code",
   "execution_count": 14,
   "metadata": {},
   "outputs": [
    {
     "data": {
      "text/plain": [
       "theory=sat, query=unknown"
      ]
     },
     "execution_count": 14,
     "metadata": {},
     "output_type": "execute_result"
    }
   ],
   "source": [
    "problem4=\"\"\"Anne is furry.\n",
    "Bob is not round.\n",
    "Dave is not furry.\n",
    "Dave is rough.\n",
    "Dave is not young.\n",
    "Erin is rough.\n",
    "Erin is round.\n",
    "All kind, cold people are not rough.\n",
    "Kind people are cold.\n",
    "If someone is cold then they are kind.\n",
    "If someone is furry then they are kind.\n",
    "If someone is round then they are not kind.\n",
    "All kind, round people are not green\"\"\"\n",
    "\n",
    "problem4 = [p for p in problem4.split(\"\\n\") if p.strip()]\n",
    "\n",
    "solver.prove(problem4,query='Erin is not funny')\n"
   ]
  },
  {
   "cell_type": "code",
   "execution_count": 15,
   "metadata": {},
   "outputs": [
    {
     "data": {
      "text/plain": [
       "theory=sat, query=entailment"
      ]
     },
     "execution_count": 15,
     "metadata": {},
     "output_type": "execute_result"
    }
   ],
   "source": [
    "problem5 = \"\"\"The cat is green.\n",
    "If something is round and green then it is rough.\n",
    "All big things are not rough.\n",
    "If something is green then it is rough.\n",
    "If the cat is rough then the cat is not round.\n",
    "If something is big and not round then it is not kind.\n",
    "All big things are not kind.\n",
    "If the cat is round and the cat is not green then the cat is kind.\n",
    "If the cat is green and the cat is not round then the cat is kind\"\"\"\n",
    "\n",
    "problem5 = [p for p in problem5.split(\"\\n\") if p.strip()]\n",
    "\n",
    "solver.prove(problem5,query=\"The cat is not big\")\n"
   ]
  },
  {
   "cell_type": "code",
   "execution_count": 16,
   "metadata": {},
   "outputs": [
    {
     "name": "stdout",
     "output_type": "stream",
     "text": [
      "Nice(harry) ForAll([x],Implies(And(Rough(x),Nice(x)),Cold(x))) ForAll([x],Implies(Big(x),Rough(x))) ForAll([x],Implies(And(Young(x),Big(x)),Green(x))) ForAll([x],Implies(Nice(x),Not(Green(x)))) ForAll([x],Implies(Nice(x),Big(x))) ForAll([x],Implies(And(Nice(x),Not(Young(x))),Not(Big(x)))) ForAll([x],Implies(Cold(x),Big(x))) Implies(Blue(harry),Not(Big(harry)))\n"
     ]
    },
    {
     "data": {
      "text/plain": [
       "theory=unsat, query=None"
      ]
     },
     "execution_count": 16,
     "metadata": {},
     "output_type": "execute_result"
    }
   ],
   "source": [
    "solver.prove(\n",
    "    ['Harry is nice', \n",
    "     'If something is rough and nice then it is cold', \n",
    "     'If something is big then it is rough', \n",
    "     'All big, young things are green', \n",
    "     'All nice things are not green', \n",
    "     'All nice things are big', \n",
    "     'If something is nice and not young then it is not big', \n",
    "     'Cold things are big', \n",
    "     'If Harry is blue then Harry is not big'],debug=True)"
   ]
  },
  {
   "cell_type": "code",
   "execution_count": 17,
   "metadata": {},
   "outputs": [
    {
     "data": {
      "text/plain": [
       "theory=unsat, query=None"
      ]
     },
     "execution_count": 17,
     "metadata": {},
     "output_type": "execute_result"
    }
   ],
   "source": [
    "solver.prove([\n",
    "    #'Anne is furry',\n",
    "    #'Anne is kind', \n",
    "    #'Anne is smart', \n",
    "    #'Anne is young', \n",
    "    'Bob is not furry', \n",
    "    'Bob is kind', \n",
    "    'Bob is red', \n",
    "    'Bob is smart', \n",
    "    'Bob is young', \n",
    "    #'Erin is not smart', \n",
    "    #'Fiona is cold', \n",
    "    #'Fiona is not furry', \n",
    "    #'Fiona is kind', \n",
    "    #'Fiona is red', \n",
    "    #'Fiona is smart', \n",
    "    'All young, cold people are furry', \n",
    "    'If someone is kind and not cold then they are furry', \n",
    "    #'All white people are smart', \n",
    "    #'All young, white people are not kind', \n",
    "    #'Smart people are red', \n",
    "    #'If Anne is white and Anne is not kind then Anne is smart'\n",
    "])"
   ]
  },
  {
   "cell_type": "code",
   "execution_count": 18,
   "metadata": {},
   "outputs": [
    {
     "data": {
      "text/plain": [
       "theory=sat, query=entailment"
      ]
     },
     "execution_count": 18,
     "metadata": {},
     "output_type": "execute_result"
    }
   ],
   "source": [
    "solver.prove([\n",
    "        \"If the tiger is young then the tiger is round\",\n",
    "        \"If the tiger is blue then the tiger is not white\",\n",
    "        \"The tiger is not nice\",\n",
    "        \"If the tiger is not white and the tiger is not nice then the tiger is not blue\",\n",
    "        \"If the tiger is not young then the tiger is blue\",\n",
    "        \"If the tiger is young then the tiger is white\",\n",
    "        \"If the tiger is white and the tiger is nice then the tiger is round\",\n",
    "        \"If the tiger is not young and the tiger is not nice then the tiger is round\",\n",
    "        \"If the tiger is nice then the tiger is young\",\n",
    "        \"If the tiger is not white then the tiger is blue\", \n",
    "        \"If the tiger is blue and the tiger is white then the tiger is young\",\n",
    "        \"If the tiger is not young and the tiger is not nice then the tiger is blue\",\n",
    "        \"If the tiger is not young then the tiger is round\",\n",
    "        \"If the tiger is nice then the tiger is young\",\n",
    "        \"If the tiger is round and the tiger is nice then the tiger is white\",\n",
    "],query=\"The tiger is young\")\n",
    "\n",
    "### Bob is cold, green, \n",
    "### "
   ]
  }
 ],
 "metadata": {
  "kernelspec": {
   "display_name": "Python 3",
   "language": "python",
   "name": "python3"
  },
  "language_info": {
   "codemirror_mode": {
    "name": "ipython",
    "version": 3
   },
   "file_extension": ".py",
   "mimetype": "text/x-python",
   "name": "python",
   "nbconvert_exporter": "python",
   "pygments_lexer": "ipython3",
   "version": "3.6.7"
  }
 },
 "nbformat": 4,
 "nbformat_minor": 4
}
