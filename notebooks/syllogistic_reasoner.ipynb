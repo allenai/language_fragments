{
 "cells": [
  {
   "cell_type": "code",
   "execution_count": 1,
   "metadata": {},
   "outputs": [],
   "source": [
    "import sys; sys.path.append('../')"
   ]
  },
  {
   "cell_type": "code",
   "execution_count": 2,
   "metadata": {},
   "outputs": [],
   "source": [
    "from language_fragments import BuildSolver, get_config"
   ]
  },
  {
   "cell_type": "code",
   "execution_count": 3,
   "metadata": {},
   "outputs": [],
   "source": [
    "config = get_config('solver')"
   ]
  },
  {
   "cell_type": "code",
   "execution_count": 4,
   "metadata": {},
   "outputs": [
    {
     "name": "stderr",
     "output_type": "stream",
     "text": [
      "INFO:language_fragments.base.RuleParser:Loaded parser, with grammar=RuleGrammar, cache_size=3000, extra_reserve=30\n",
      "INFO:language_fragments.base.SyllogisticSMTSolver:Created solver, cache_size=3000\n"
     ]
    }
   ],
   "source": [
    "solver = BuildSolver(config)"
   ]
  },
  {
   "cell_type": "markdown",
   "metadata": {},
   "source": [
    "**Main Rule Language** The current *rule_parser* and rule language  implemented the following language\n",
    "fragments (based on work in\n",
    "[this work](http://www.cs.man.ac.uk/~ipratt/papers/nat_lang/hst.pdf)):\n",
    "\n",
    "| fragment \t| syntactic forms \t|\n",
    "|-\t|-\t|\n",
    "| **Basic syllogistic (BSyl)** \t| Every $cnoun$ {is, is not} a $cnoun$, Some $cnoun$ {is a, is not} $cnoun$, <noun> {is, is not} a $cnoun$, No $cnoun$ {is,is not} a $cnoun$ \t|\n",
    "| **BSyl + transitive verbs (TV)** \t| {Some,Every, No} $cnoun$ (does not) $verb$ {Some,Every,No} $cnoun$, {Some,Every,No} $cnoun$ (does not) $verb$ $noun$, $noun$ (does not) $verb$ $noun$ \t|\n",
    "| **BSyl + relative clauses (RC)** \t| {Some, Every, No} $cnoun$ who {is,is not} a $cnoun$ {is, is not} a $cnoun$  \t|\n",
    "| **BSyl + TV + RC** \t| {Some, Every, No} $cnoun$ who {is,is not} a $cnoun$ $verb$ {Some,Every,No} $cnoun$, {Some, Every, No} $cnoun$ who <verb> {Some,Every,No} $cnoun$ $verb$ {Some,Every,No} $cnoun$, \t|\n",
    "\n",
    "where **$cnoun$**,**$verb$**,**$noun$** are place-holders that denote\n",
    "*count nouns*, *verbs*, *nouns* (respectively)"
   ]
  },
  {
   "cell_type": "code",
   "execution_count": 5,
   "metadata": {},
   "outputs": [
    {
     "name": "stdout",
     "output_type": "stream",
     "text": [
      "ForAll([x],Implies(Aa(x),Bb(x)))\n"
     ]
    },
    {
     "data": {
      "text/plain": [
       "theory=sat, query=None"
      ]
     },
     "execution_count": 5,
     "metadata": {},
     "output_type": "execute_result"
    }
   ],
   "source": [
    "solver.prove([\"All Aa is a Bb\"],debug=True)"
   ]
  },
  {
   "cell_type": "code",
   "execution_count": 6,
   "metadata": {},
   "outputs": [
    {
     "name": "stdout",
     "output_type": "stream",
     "text": [
      "ForAll([x],Implies(Aa(x),Bb(x))) ForAll([x],Implies(Cc(x),Not(Bb(x))))\n"
     ]
    },
    {
     "data": {
      "text/plain": [
       "theory=sat, query=None"
      ]
     },
     "execution_count": 6,
     "metadata": {},
     "output_type": "execute_result"
    }
   ],
   "source": [
    "solver.prove([\"All Aa is a Bb\",\"No Cc is a Bb\"],debug=True)"
   ]
  },
  {
   "cell_type": "code",
   "execution_count": 7,
   "metadata": {},
   "outputs": [
    {
     "name": "stdout",
     "output_type": "stream",
     "text": [
      "ForAll([x],Implies(Aa(x),Bb(x))) ForAll([x],Implies(Cc(x),Not(Bb(x)))) ForAll([x],Implies(Cc(x),Bb(x))) Cc(john)\n"
     ]
    },
    {
     "data": {
      "text/plain": [
       "theory=unsat, query=None"
      ]
     },
     "execution_count": 7,
     "metadata": {},
     "output_type": "execute_result"
    }
   ],
   "source": [
    "solver.prove([\"All Aa is a Bb\",\n",
    "              \"No Cc is a Bb\",\n",
    "              \"Every Cc is a Bb\",\n",
    "              \"John is a Cc\"],debug=True)"
   ]
  },
  {
   "cell_type": "code",
   "execution_count": 8,
   "metadata": {},
   "outputs": [
    {
     "name": "stdout",
     "output_type": "stream",
     "text": [
      "ForAll([x],Implies(Aa(x),Bb(x))) ForAll([x],Implies(Aa(x),Not(Bb(x))))\n"
     ]
    },
    {
     "data": {
      "text/plain": [
       "theory=sat, query=None"
      ]
     },
     "execution_count": 8,
     "metadata": {},
     "output_type": "execute_result"
    }
   ],
   "source": [
    "solver.prove([\"All Aa is a Bb\",\n",
    "              \"All Aa is not a Bb\"],debug=True)"
   ]
  },
  {
   "cell_type": "code",
   "execution_count": 9,
   "metadata": {},
   "outputs": [
    {
     "name": "stdout",
     "output_type": "stream",
     "text": [
      "ForAll([x],Implies(Man(x),Mortal(x))) Man(socrate) Not(Mortal(socrate))\n"
     ]
    },
    {
     "data": {
      "text/plain": [
       "theory=unsat, query=None"
      ]
     },
     "execution_count": 9,
     "metadata": {},
     "output_type": "execute_result"
    }
   ],
   "source": [
    "solver.prove([\"Every man is a mortal\",\n",
    "              \"socrates is a man\",\n",
    "              \"socrates is not a mortal\"],debug=True)"
   ]
  },
  {
   "cell_type": "code",
   "execution_count": 10,
   "metadata": {},
   "outputs": [
    {
     "name": "stdout",
     "output_type": "stream",
     "text": [
      "ForAll([x],Implies(Man(x),Mortal(x))) Man(socrate)\n"
     ]
    },
    {
     "data": {
      "text/plain": [
       "theory=sat, query=contradiction"
      ]
     },
     "execution_count": 10,
     "metadata": {},
     "output_type": "execute_result"
    }
   ],
   "source": [
    "solver.prove([\"Every man is a mortal\",\"socrates is a man\"],query=\"socrates is not a mortal\",debug=True)"
   ]
  },
  {
   "cell_type": "code",
   "execution_count": 11,
   "metadata": {},
   "outputs": [
    {
     "data": {
      "text/plain": [
       "theory=sat, query=entailment"
      ]
     },
     "execution_count": 11,
     "metadata": {},
     "output_type": "execute_result"
    }
   ],
   "source": [
    "solver.prove([\"Every man is a mortal\",\n",
    "              \"socrates is a man\"],query=\"socrates is a mortal\")"
   ]
  },
  {
   "cell_type": "code",
   "execution_count": 12,
   "metadata": {},
   "outputs": [
    {
     "data": {
      "text/plain": [
       "theory=sat, query=unknown"
      ]
     },
     "execution_count": 12,
     "metadata": {},
     "output_type": "execute_result"
    }
   ],
   "source": [
    "solver.prove([\"Every man is a mortal\",\n",
    "              \"socrates is a man\",\n",
    "              \"Every dog is a saint\"],\n",
    "             query=\"socrates is a saint\")"
   ]
  },
  {
   "cell_type": "code",
   "execution_count": 13,
   "metadata": {},
   "outputs": [
    {
     "name": "stdout",
     "output_type": "stream",
     "text": [
      "ForAll([x],Implies(And(Not(Beekeeper(x)),Artist(x)),Carpenter(x))) ForAll([x],Implies(Beekeeper(x),Not(Dentist(x)))) ForAll([x],Implies(Carpenter(x),Not(Dentist(x)))) Artist(john)\n"
     ]
    },
    {
     "data": {
      "text/plain": [
       "theory=sat, query=None"
      ]
     },
     "execution_count": 13,
     "metadata": {},
     "output_type": "execute_result"
    }
   ],
   "source": [
    "solver.prove([\"Every artist who is not a beekeeper is a carpenter\",\n",
    "              \"No beekeeper is a dentist\",\n",
    "              \"No carpenter is a dentist\",\n",
    "              \"John is an artist\"],debug=True)"
   ]
  },
  {
   "cell_type": "code",
   "execution_count": 14,
   "metadata": {},
   "outputs": [
    {
     "data": {
      "text/plain": [
       "theory=sat, query=entailment"
      ]
     },
     "execution_count": 14,
     "metadata": {},
     "output_type": "execute_result"
    }
   ],
   "source": [
    "solver.prove([\"Every artist who is not a beekeeper is a carpenter\",\n",
    "              \"No beekeeper is a dentist\",\n",
    "              \"No carpenter is a dentist\",\n",
    "              \"John is an artist\"],\n",
    "             query=\"No artist is a dentist\")"
   ]
  },
  {
   "cell_type": "code",
   "execution_count": 15,
   "metadata": {},
   "outputs": [
    {
     "data": {
      "text/plain": [
       "theory=sat, query=contradiction"
      ]
     },
     "execution_count": 15,
     "metadata": {},
     "output_type": "execute_result"
    }
   ],
   "source": [
    "solver.prove([\"Every artist who is not a beekeeper is a carpenter\",\n",
    "              \"No beekeeper is a dentist\",\n",
    "              \"No carpenter is a dentist\",\n",
    "              \"John is an artist\"],\n",
    "             query=\"John is a dentist\")"
   ]
  },
  {
   "cell_type": "code",
   "execution_count": 16,
   "metadata": {},
   "outputs": [
    {
     "data": {
      "text/plain": [
       "theory=sat, query=None"
      ]
     },
     "execution_count": 16,
     "metadata": {},
     "output_type": "execute_result"
    }
   ],
   "source": [
    "solver.prove([\"Every philosopher despises some cynic\",\n",
    "              \"Every gentleman is a philosopher\",\n",
    "              \"Every cynic is a man\",\n",
    "              \"Every man is a human\",\n",
    "              \"Socrates is a gentleman\"])"
   ]
  },
  {
   "cell_type": "code",
   "execution_count": 17,
   "metadata": {},
   "outputs": [
    {
     "data": {
      "text/plain": [
       "theory=sat, query=entailment"
      ]
     },
     "execution_count": 17,
     "metadata": {},
     "output_type": "execute_result"
    }
   ],
   "source": [
    "solver.prove([\"Every philosopher despises some cynic\",\n",
    "              \"Every gentleman is a philosopher\",\n",
    "              \"Every cynic is a man\",\n",
    "              \"Every man is a human\",\n",
    "              \"Socrates is a gentleman\"],\n",
    "             query=\"Some gentleman despises some human\")"
   ]
  },
  {
   "cell_type": "code",
   "execution_count": 18,
   "metadata": {},
   "outputs": [
    {
     "data": {
      "text/plain": [
       "theory=sat, query=entailment"
      ]
     },
     "execution_count": 18,
     "metadata": {},
     "output_type": "execute_result"
    }
   ],
   "source": [
    "solver.prove([\"Every philosopher who is not a stoic is a cynic\",\n",
    "              \"Every stoic is a man\",\n",
    "              \"Every cynic is a man\"],\n",
    "             query=\"Every philosopher is a man\")"
   ]
  },
  {
   "cell_type": "code",
   "execution_count": 19,
   "metadata": {},
   "outputs": [
    {
     "name": "stdout",
     "output_type": "stream",
     "text": [
      "ForAll([x],Implies(And(Not(Stoic(x)),Philosopher(x)),Cynic(x))) ForAll([x],Implies(Stoic(x),Man(x))) ForAll([x],Implies(Cynic(x),Man(x)))\n"
     ]
    },
    {
     "data": {
      "text/plain": [
       "theory=sat, query=unknown"
      ]
     },
     "execution_count": 19,
     "metadata": {},
     "output_type": "execute_result"
    }
   ],
   "source": [
    "solver.prove([\"Every philosopher who is not a stoic is a cynic\",\n",
    "              \"Every stoic is a man\",\n",
    "              \"Every cynic is a man\"],\n",
    "             query=\"Some philosopher is a man\",debug=True)"
   ]
  },
  {
   "cell_type": "code",
   "execution_count": 20,
   "metadata": {},
   "outputs": [
    {
     "name": "stdout",
     "output_type": "stream",
     "text": [
      "ForAll([x],Implies(And(Not(Stoic(x)),Philosopher(x)),Cynic(x))) ForAll([x],Implies(Stoic(x),Man(x))) ForAll([x],Implies(Cynic(x),Man(x))) Philosopher(john)\n"
     ]
    },
    {
     "data": {
      "text/plain": [
       "theory=sat, query=entailment"
      ]
     },
     "execution_count": 20,
     "metadata": {},
     "output_type": "execute_result"
    }
   ],
   "source": [
    "solver.prove([\"Every philosopher who is not a stoic is a cynic\",\n",
    "              \"Every stoic is a man\",\n",
    "              \"Every cynic is a man\",\n",
    "              \"john is a philosopher\"],\n",
    "             query=\"Some philosopher is a man\",debug=True)"
   ]
  },
  {
   "cell_type": "code",
   "execution_count": 21,
   "metadata": {},
   "outputs": [
    {
     "name": "stdout",
     "output_type": "stream",
     "text": [
      "Exists([x],And(Artist(x),ForAll([y],Implies(Beekeeper(y),Not(Admire(x,y)))))) ForAll([x],Implies(Beekeeper(x),Exists([y],And(Artist(y),Admire(x,y)))))\n"
     ]
    },
    {
     "data": {
      "text/plain": [
       "theory=sat, query=entailment"
      ]
     },
     "execution_count": 21,
     "metadata": {},
     "output_type": "execute_result"
    }
   ],
   "source": [
    "solver.prove([\"Some artist admires no beekeeper\",\n",
    "              \"Every beekeeper admires some artist\"],\n",
    "             query=\"Some artist is not a beekeeper\",debug=True)"
   ]
  },
  {
   "cell_type": "code",
   "execution_count": 22,
   "metadata": {},
   "outputs": [
    {
     "data": {
      "text/plain": [
       "theory=sat, query=entailment"
      ]
     },
     "execution_count": 22,
     "metadata": {},
     "output_type": "execute_result"
    }
   ],
   "source": [
    "solver.prove([\"Every stoic admires every cynic\",\n",
    "              \"No cynic admires any stoic\",\n",
    "             ],\n",
    "             query=\"No stoic is a cynic\")"
   ]
  },
  {
   "cell_type": "code",
   "execution_count": 23,
   "metadata": {},
   "outputs": [
    {
     "data": {
      "text/plain": [
       "theory=sat, query=entailment"
      ]
     },
     "execution_count": 23,
     "metadata": {},
     "output_type": "execute_result"
    }
   ],
   "source": [
    "solver.prove([\"Every p is a q\",\"Every o is a p\"],query=\"Every o is a q\")"
   ]
  },
  {
   "cell_type": "code",
   "execution_count": 24,
   "metadata": {},
   "outputs": [
    {
     "name": "stdout",
     "output_type": "stream",
     "text": [
      "ForAll([x],Implies(P(x),Q(x))) ForAll([x],Implies(O(x),P(x)))\n"
     ]
    },
    {
     "data": {
      "text/plain": [
       "theory=sat, query=contradiction"
      ]
     },
     "execution_count": 24,
     "metadata": {},
     "output_type": "execute_result"
    }
   ],
   "source": [
    "solver.prove([\"Every p is a q\",\"Every o is a p\"],query=\"Some o is not a q\",debug=True)"
   ]
  },
  {
   "cell_type": "code",
   "execution_count": 25,
   "metadata": {},
   "outputs": [
    {
     "name": "stdout",
     "output_type": "stream",
     "text": [
      "ForAll([x],Implies(P(x),Q(x))) ForAll([x],Implies(O(x),P(x)))\n"
     ]
    },
    {
     "data": {
      "text/plain": [
       "theory=sat, query=unknown"
      ]
     },
     "execution_count": 25,
     "metadata": {},
     "output_type": "execute_result"
    }
   ],
   "source": [
    "solver.prove([\"Every p is a q\",\"Every o is a p\"],query=\"Every o is not a q\",debug=True)"
   ]
  },
  {
   "cell_type": "code",
   "execution_count": 26,
   "metadata": {},
   "outputs": [
    {
     "data": {
      "text/plain": [
       "theory=sat, query=entailment"
      ]
     },
     "execution_count": 26,
     "metadata": {},
     "output_type": "execute_result"
    }
   ],
   "source": [
    "solver.prove([\"Every p is a q\",\"Some o is a p\"],query=\"Some o is a q\")"
   ]
  },
  {
   "cell_type": "code",
   "execution_count": 27,
   "metadata": {},
   "outputs": [
    {
     "data": {
      "text/plain": [
       "theory=sat, query=entailment"
      ]
     },
     "execution_count": 27,
     "metadata": {},
     "output_type": "execute_result"
    }
   ],
   "source": [
    "solver.prove([\"No p is a q\",\"Some o is a p\"],query=\"Some o is not a q\")"
   ]
  },
  {
   "cell_type": "code",
   "execution_count": 28,
   "metadata": {},
   "outputs": [
    {
     "data": {
      "text/plain": [
       "theory=sat, query=entailment"
      ]
     },
     "execution_count": 28,
     "metadata": {},
     "output_type": "execute_result"
    }
   ],
   "source": [
    "solver.prove([\"Some p is a q\"],query=\"Some q is a p\")"
   ]
  },
  {
   "cell_type": "code",
   "execution_count": 29,
   "metadata": {},
   "outputs": [
    {
     "data": {
      "text/plain": [
       "theory=sat, query=entailment"
      ]
     },
     "execution_count": 29,
     "metadata": {},
     "output_type": "execute_result"
    }
   ],
   "source": [
    "solver.prove([\"No p is a q\"],query=\"No q is a p\")"
   ]
  },
  {
   "cell_type": "code",
   "execution_count": 30,
   "metadata": {},
   "outputs": [
    {
     "name": "stdout",
     "output_type": "stream",
     "text": [
      "ForAll([x],Implies(P(x),Q(x))) ForAll([x],Implies(O(x),P(x)))\n"
     ]
    },
    {
     "data": {
      "text/plain": [
       "theory=sat, query=unknown"
      ]
     },
     "execution_count": 30,
     "metadata": {},
     "output_type": "execute_result"
    }
   ],
   "source": [
    "solver.prove([\"Every p is a q\",\n",
    "              \"Every o is a p\"],query=\"Every o is not a p\",debug=True)"
   ]
  },
  {
   "cell_type": "code",
   "execution_count": 31,
   "metadata": {},
   "outputs": [
    {
     "data": {
      "text/plain": [
       "theory=sat, query=unknown"
      ]
     },
     "execution_count": 31,
     "metadata": {},
     "output_type": "execute_result"
    }
   ],
   "source": [
    "solver.prove([\"Every doctor who is not a surgeon is a gardener\",\n",
    "              \"Every gardener is a philosopher\",\n",
    "              \"John is a doctor\",\n",
    "              \"No philosopher is not a gardener\"],query=\"John is a gardener\")"
   ]
  }
 ],
 "metadata": {
  "kernelspec": {
   "display_name": "Python 3",
   "language": "python",
   "name": "python3"
  },
  "language_info": {
   "codemirror_mode": {
    "name": "ipython",
    "version": 3
   },
   "file_extension": ".py",
   "mimetype": "text/x-python",
   "name": "python",
   "nbconvert_exporter": "python",
   "pygments_lexer": "ipython3",
   "version": "3.6.7"
  }
 },
 "nbformat": 4,
 "nbformat_minor": 4
}
